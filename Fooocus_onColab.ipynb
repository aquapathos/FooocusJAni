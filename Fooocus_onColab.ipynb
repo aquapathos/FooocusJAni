{
  "nbformat": 4,
  "nbformat_minor": 0,
  "metadata": {
    "colab": {
      "provenance": [],
      "gpuType": "T4",
      "include_colab_link": true
    },
    "kernelspec": {
      "name": "python3",
      "display_name": "Python 3"
    },
    "language_info": {
      "name": "python"
    },
    "accelerator": "GPU"
  },
  "cells": [
    {
      "cell_type": "markdown",
      "metadata": {
        "id": "view-in-github",
        "colab_type": "text"
      },
      "source": [
        "<a href=\"https://colab.research.google.com/github/aquapathos/FooocusJAni/blob/main/Fooocus_onColab.ipynb\" target=\"_parent\"><img src=\"https://colab.research.google.com/assets/colab-badge.svg\" alt=\"Open In Colab\"/></a>"
      ]
    },
    {
      "cell_type": "markdown",
      "source": [
        "# Foooocus日本語化メニュー版\n",
        "\n",
        "このプログラムは次のサイトを参考にしています。\n",
        "1. [Fooocus colab](https://github.com/lllyasviel/Fooocus/blob/main/fooocus_colab.ipynb)\n",
        "2. Fooocus 日本語アニメ特化版 [j.aicu.ai/FoooC](https://j.aicu.ai/FoooC)\n",
        "\n",
        "２は１の日本語化と、アニメ用のモデル animaPencilXL_v310.safetensors 用の自動設定をダウンロードするように仕組まれたノートです。\n",
        "\n",
        "２では　pygit2==1.12.2　をインストールするようになっていますが、１に合わせて　1.15.1　としています。\n",
        "\n",
        "## 起動オプション\n",
        "\n",
        "このスクリプトでは Google Driveの マイドライブ直下「Fooocus-outputs」に画像が保存されるようになっています。\n"
      ],
      "metadata": {
        "id": "xwciD8nyDILt"
      }
    },
    {
      "cell_type": "code",
      "execution_count": null,
      "metadata": {
        "id": "KZYJfKVuDCOM"
      },
      "outputs": [],
      "source": [
        "# @markdown #Fooocus JP + Google Drive Output\n",
        "from google.colab import drive\n",
        "import os\n",
        "\n",
        "# Google Driveをマウント\n",
        "drive.mount('/content/gdrive')\n",
        "\n",
        "target_drive_dir = \"/content/gdrive/MyDrive/Fooocus-outputs\"  # @param {type:\"string\"}\n",
        "target_local_dir = \"/content/Fooocus/outputs\"\n",
        "\n",
        "# Google 出力ディレクトリを作成\n",
        "os.makedirs(target_local_dir, exist_ok=True)\n",
        "\n",
        "# オプションの設定\n",
        "use_japanese = True  # @param {type:\"boolean\"}\n",
        "model_type = \"default\"  # @param [\"default\", \"anime\"] {allow-input: true}\n",
        "\n",
        "# 必要なパッケージのインストール\n",
        "!pip -qq install pygit2==1.15.1\n",
        "\n",
        "%cd /content\n",
        "!rm -fr Fooocus\n",
        "!git clone https://github.com/lllyasviel/Fooocus.git\n",
        "# %cd /content/Fooocus\n",
        "# !python entry_with_update.py --share --always-high-vram\n",
        "\n",
        "# 日本語パッチを追加\n",
        "if use_japanese:\n",
        "    ja_json_url = \"https://raw.githubusercontent.com/aquapathos/FooocusJAni/refs/heads/main/ja.json\"\n",
        "    ja_json_path = \"/content/Fooocus/language/ja.json\"\n",
        "    os.makedirs(os.path.dirname(ja_json_path), exist_ok=True)\n",
        "    !curl -L -o {ja_json_path} {ja_json_url}\n",
        "    print(f\"ja.json downloaded and saved to {ja_json_path}\")\n",
        "\n",
        "# アニメ版の設定ファイルのパッチ(最新版)を追加\n",
        "if model_type == \"anime\":\n",
        "    anime_json_url = \"https://raw.githubusercontent.com/aquapathos/FooocusJAni/refs/heads/main/anime.json\"\n",
        "    anime_json_path = \"/content/Fooocus/presets/anime.json\"\n",
        "    os.makedirs(os.path.dirname(anime_json_path), exist_ok=True)\n",
        "    !curl -L -o {anime_json_path} {anime_json_url}\n",
        "    print(f\"anime.json downloaded and saved to {anime_json_path}\")\n"
      ]
    },
    {
      "cell_type": "markdown",
      "source": [
        "\n"
      ],
      "metadata": {
        "id": "smqqaM5UI9zo"
      }
    },
    {
      "cell_type": "code",
      "source": [
        "%cd /content/Fooocus\n",
        "# Fooocus JP Script Options\n",
        "if model_type == \"default\" and not use_japanese:\n",
        "    !python entry_with_update.py  --always-high-vram  --output-path {target_drive_dir} --share\n",
        "elif model_type == \"default\" and use_japanese:\n",
        "    !python entry_with_update.py  --always-high-vram  --output-path {target_drive_dir} --share --language ja\n",
        "elif model_type == \"anime\" and not use_japanese:\n",
        "    !python entry_with_update.py --preset anime --always-high-vram --output-path {target_drive_dir} --share\n",
        "elif model_type == \"anime\" and use_japanese:\n",
        "    !python entry_with_update.py --preset anime --always-high-vram --output-path {target_drive_dir} --share --language ja"
      ],
      "metadata": {
        "id": "L6hh5BedZ0VJ"
      },
      "execution_count": null,
      "outputs": []
    },
    {
      "cell_type": "code",
      "source": [],
      "metadata": {
        "id": "WKoND7IMaO4a"
      },
      "execution_count": null,
      "outputs": []
    }
  ]
}