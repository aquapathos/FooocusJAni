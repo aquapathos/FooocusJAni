{
  "nbformat": 4,
  "nbformat_minor": 0,
  "metadata": {
    "colab": {
      "provenance": [],
      "gpuType": "T4",
      "include_colab_link": true
    },
    "kernelspec": {
      "name": "python3",
      "display_name": "Python 3"
    },
    "language_info": {
      "name": "python"
    },
    "accelerator": "GPU"
  },
  "cells": [
    {
      "cell_type": "markdown",
      "metadata": {
        "id": "view-in-github",
        "colab_type": "text"
      },
      "source": [
        "<a href=\"https://colab.research.google.com/github/aquapathos/FooocusJAni/blob/main/Fooocus_onColabwithMM.ipynb\" target=\"_parent\"><img src=\"https://colab.research.google.com/assets/colab-badge.svg\" alt=\"Open In Colab\"/></a>"
      ]
    },
    {
      "cell_type": "markdown",
      "source": [
        "# Foooocus日本語化メニュー版++MM LoRA\n",
        "\n",
        "このプログラムは次のサイトを参考にしています。\n",
        "1. [Fooocus colab](https://github.com/lllyasviel/Fooocus/blob/main/fooocus_colab.ipynb)\n",
        "2. Fooocus 日本語アニメ特化版 [j.aicu.ai/FoooC](https://j.aicu.ai/FoooC)\n",
        "\n",
        "２は１の日本語化と、アニメ用のモデルの自動設定をダウンロードするように仕組まれたノートです。\n",
        "\n",
        "## 修正点\n",
        "1. 上記の２では　pygit2==1.12.2　をインストールするようになっていますが、１に合わせて　1.15.1　としています。\n",
        "2. アニメ用のモデルを、animaPencilXL_v310.safetensors から　animagine-xl-3.0.safetensors　に変更しています。\n",
        "3. MM(Mikako Method)のプリセットを追加しています。\n",
        "\n",
        "# 画像出力フォルダ\n",
        "\n",
        "このスクリプトでは **Google Drive内のFooocus-outputs**に画像が保存されるようになっています。（日本語アニメ特化版の設定を踏襲）\n",
        "\n",
        "\n",
        "### <font color=red>↓実行してください</font>\n"
      ],
      "metadata": {
        "id": "xwciD8nyDILt"
      }
    },
    {
      "cell_type": "code",
      "execution_count": null,
      "metadata": {
        "id": "KZYJfKVuDCOM",
        "cellView": "form"
      },
      "outputs": [],
      "source": [
        "# @markdown #Fooocus JP + Google Drive Output\n",
        "from google.colab import drive\n",
        "import os\n",
        "\n",
        "# Google Driveをマウント\n",
        "drive.mount('/content/gdrive')\n",
        "\n",
        "target_drive_dir = \"/content/gdrive/MyDrive/Fooocus-outputs\"  # @param {type:\"string\"}\n",
        "target_local_dir = \"/content/Fooocus/outputs\"\n",
        "\n",
        "# Google 出力ディレクトリを作成\n",
        "os.makedirs(target_local_dir, exist_ok=True)\n",
        "\n",
        "# 必要なパッケージのインストール\n",
        "!pip -qq install pygit2==1.15.1\n",
        "\n",
        "%cd /content\n",
        "try:\n",
        "  setup_finished\n",
        "except NameError:\n",
        "  !rm -fr Fooocus\n",
        "  !git clone https://github.com/lllyasviel/Fooocus.git\n",
        "\n",
        "# 日本語パッチを追加\n",
        "ja_json_url = \"https://raw.githubusercontent.com/aquapathos/FooocusJAni/refs/heads/main/ja.json\"\n",
        "ja_json_path = \"/content/Fooocus/language/ja.json\"\n",
        "os.makedirs(os.path.dirname(ja_json_path), exist_ok=True)\n",
        "!curl -L -o {ja_json_path} {ja_json_url}\n",
        "print(f\"ja.json downloaded and saved to {ja_json_path}\")\n",
        "\n",
        "# MM用のプリセットを追加\n",
        "mm_json_url = \"https://huggingface.co/iciromaco/mm/raw/main/mm_preset.json\"\n",
        "mm_json_path = \"/content/Fooocus/presets/mm_preset.json\"\n",
        "os.makedirs(os.path.dirname(mm_json_path), exist_ok=True)\n",
        "!curl -L -o {mm_json_path} {mm_json_url}\n",
        "print(f\"mm_preset.json downloaded and saved to {mm_json_path}\")\n",
        "\n",
        "# アニメ版の設定ファイルのパッチ(最新版)を追加\n",
        "anime_json_url = \"https://raw.githubusercontent.com/aquapathos/FooocusJAni/refs/heads/main/anime.json\"\n",
        "anime_json_path = \"/content/Fooocus/presets/anime.json\"\n",
        "os.makedirs(os.path.dirname(anime_json_path), exist_ok=True)\n",
        "!curl -L -o {anime_json_path} {anime_json_url}\n",
        "print(f\"anime.json downloaded and saved to {anime_json_path}\")\n",
        "\n",
        "\n",
        "setup_finished = True"
      ]
    },
    {
      "cell_type": "markdown",
      "source": [
        "（注）出力画像は、Google Drive の上記フォルダに保存されます。別の場所に保存したい場合は設定を書き換えてください。"
      ],
      "metadata": {
        "id": "jdEPFBbQee6X"
      }
    },
    {
      "cell_type": "markdown",
      "source": [
        "\n",
        "## ウェブアプリの起動\n",
        "\n",
        "#### モデルタイプ： 次の３つから選んでください\n",
        "- デフォルト : Fooocus のデフォルト設定\n",
        "- アニメ：　アニメ画生成\n",
        "- MM：Mikako Methodの風景画生成\n",
        "\n",
        "モデルのダウンロードに少し時間がかかります。しばらくお待ちください。\n",
        "\n",
        "### モデルタイプを選び<font color=red>↓実行してください</font>"
      ],
      "metadata": {
        "id": "smqqaM5UI9zo"
      }
    },
    {
      "cell_type": "code",
      "source": [
        "%cd /content/Fooocus\n",
        "\n",
        "# オプションの設定\n",
        "日本語の使用 = True  # @param {type:\"boolean\"}\n",
        "モデルタイプ = \"MM\"  # @param [\"デフォルト\", \"アニメ\",\"MM\"] {allow-input: true}\n",
        "\n",
        "# Fooocus JP Script Options\n",
        "if モデルタイプ == \"デフォルト\" and not 日本語の使用:\n",
        "    !python entry_with_update.py  --always-high-vram  --output-path {target_drive_dir} --share\n",
        "elif モデルタイプ == \"デフォルト\" and 日本語の使用 :\n",
        "    !python entry_with_update.py  --always-high-vram  --output-path {target_drive_dir} --share --language ja\n",
        "elif モデルタイプ == \"アニメ\" and not 日本語の使用:\n",
        "    !python entry_with_update.py --preset anime --always-high-vram --output-path {target_drive_dir} --share\n",
        "elif モデルタイプ == \"アニメ\" and 日本語の使用:\n",
        "    !python entry_with_update.py --preset anime --always-high-vram --output-path {target_drive_dir} --share --language ja\n",
        "elif モデルタイプ == \"MM\" and not 日本語の使用:\n",
        "    !python entry_with_update.py --preset mm_preset --always-high-vram --output-path {target_drive_dir} --share\n",
        "elif モデルタイプ == \"MM\" and 日本語の使用:\n",
        "    !python entry_with_update.py --preset mm_preset --always-high-vram --output-path {target_drive_dir} --share --language ja"
      ],
      "metadata": {
        "id": "L6hh5BedZ0VJ",
        "cellView": "form"
      },
      "execution_count": null,
      "outputs": []
    },
    {
      "cell_type": "markdown",
      "source": [
        "次のように、**gradio.live** で終わるURLが表示されたらクリックしてください\n",
        "\n",
        "![](https://i.imgur.com/YARA2nf.png)"
      ],
      "metadata": {
        "id": "UvvvOfoFjz_E"
      }
    },
    {
      "cell_type": "code",
      "source": [],
      "metadata": {
        "id": "waZ1v3Chj_71"
      },
      "execution_count": null,
      "outputs": []
    }
  ]
}